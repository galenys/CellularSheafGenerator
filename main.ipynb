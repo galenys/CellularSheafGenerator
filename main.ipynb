{
 "cells": [
  {
   "cell_type": "code",
   "execution_count": 403,
   "metadata": {},
   "outputs": [],
   "source": [
    "from collections import defaultdict\n",
    "from __future__ import annotations\n",
    "from typing import List, Dict, Tuple\n",
    "import random\n",
    "import numpy as np"
   ]
  },
  {
   "cell_type": "code",
   "execution_count": 404,
   "metadata": {},
   "outputs": [
    {
     "name": "stdout",
     "output_type": "stream",
     "text": [
      "Simplex(1 2 3)\n",
      "[Simplex(2 3), Simplex(1 3), Simplex(1 2)]\n"
     ]
    }
   ],
   "source": [
    "class Simplex:\n",
    "    def __init__(self, vertices: List[int]):\n",
    "        self.n = len(vertices)\n",
    "        self.vertices = vertices\n",
    "\n",
    "    def get_representation(self) -> List[int]:\n",
    "        return sorted(self.vertices)\n",
    "\n",
    "    def __eq__(self, other: Simplex) -> bool:\n",
    "        return self.get_representation() == other.get_representation()\n",
    "\n",
    "    def get_immediate_children(self) -> List[Simplex]:\n",
    "        if self.n == 1:\n",
    "            return []\n",
    "        return [\n",
    "            Simplex([*self.vertices[:i], *self.vertices[i + 1 :]])\n",
    "            for i in range(self.n)\n",
    "        ]\n",
    "\n",
    "    def __str__(self) -> str:\n",
    "        return f\"Simplex({' '.join(str(v) for v in self.get_representation())})\"\n",
    "\n",
    "    def __repr__(self) -> str:\n",
    "        return self.__str__()\n",
    "\n",
    "\n",
    "a = Simplex([1, 2, 3])\n",
    "print(a)\n",
    "print(a.get_immediate_children())"
   ]
  },
  {
   "cell_type": "code",
   "execution_count": 405,
   "metadata": {},
   "outputs": [
    {
     "name": "stdout",
     "output_type": "stream",
     "text": [
      "SimplicialComplex({3: [Simplex(1 2 3)], 2: [Simplex(2 3), Simplex(1 3), Simplex(1 2)], 1: [Simplex(3), Simplex(2), Simplex(1)]})\n"
     ]
    }
   ],
   "source": [
    "class SimplicialComplex:\n",
    "    def __init__(self, simplices: List[Simplex]):\n",
    "        # It will be useful later to keep the simplices graded by dimension.\n",
    "        self.graded_simplices = defaultdict(list)\n",
    "        for simplex in simplices:\n",
    "            self.graded_simplices[simplex.n].append(simplex)\n",
    "        self.largest_n = max(self.graded_simplices.keys())\n",
    "        self.fill_in_gaps()\n",
    "\n",
    "    def fill_in_simplex(self, simplex: Simplex):\n",
    "        if simplex in self.graded_simplices[simplex.n]:\n",
    "            return\n",
    "        self.graded_simplices[simplex.n].append(simplex)\n",
    "        for child in simplex.get_immediate_children():\n",
    "            self.fill_in_simplex(child)\n",
    "\n",
    "    def fill_in_gaps(self):\n",
    "        for n in range(1, self.largest_n + 1):\n",
    "            for simplex in self.graded_simplices[n]:\n",
    "                for child in simplex.get_immediate_children():\n",
    "                    self.fill_in_simplex(child)\n",
    "\n",
    "    def __str__(self) -> str:\n",
    "        return f\"SimplicialComplex({dict(self.graded_simplices)})\"\n",
    "\n",
    "    def __repr__(self) -> str:\n",
    "        return self.__str__()\n",
    "\n",
    "\n",
    "a, b = Simplex([1, 2, 3]), Simplex([2, 3])\n",
    "X = SimplicialComplex([a, b])\n",
    "print(X)"
   ]
  },
  {
   "cell_type": "code",
   "execution_count": 406,
   "metadata": {},
   "outputs": [
    {
     "name": "stdout",
     "output_type": "stream",
     "text": [
      "defaultdict(<class 'list'>, {3: [Simplex(1 2 3)], 2: [Simplex(2 3), Simplex(1 3), Simplex(1 2)], 1: [Simplex(3), Simplex(2), Simplex(1)]})\n",
      "{'Simplex(3)': 5.9633235547581345, 'Simplex(2)': 6.378590579213085, 'Simplex(1)': 2.647014935588701, 'Simplex(2 3)': 9.25094285370236, 'Simplex(1 3)': 5.627548659169039, 'Simplex(1 2)': 2.668676628557633, 'Simplex(1 2 3)': 3.6152215536580226}\n",
      "{(2, 1): array([[ 1.55130654, -1.45031143,  0.        ],\n",
      "       [ 0.94369333,  0.        , -2.12599808],\n",
      "       [ 0.        ,  0.4183803 , -1.00818344]]), (3, 2): array([[ 0.39079493, -0.64241498,  1.35468701]])}\n",
      "[[ 5.49917743e-17  1.21337536e-17 -2.46774029e-16]]\n"
     ]
    }
   ],
   "source": [
    "class CellularSheaf:\n",
    "    def __init__(self, simplicial_complex: SimplicialComplex):\n",
    "        \"\"\"\n",
    "        In this version of a cellular sheaf, we will assume that each simplex is assigned R,\n",
    "        and that the boundary maps are real numbers.\n",
    "        \"\"\"\n",
    "\n",
    "        self.simplicial_complex = simplicial_complex\n",
    "        self.largest_n = simplicial_complex.largest_n\n",
    "\n",
    "        # We check that the boundary condition holds\n",
    "        self.check_valid_simplicial_complex()\n",
    "\n",
    "    def check_valid_simplicial_complex(self):\n",
    "        for n in range(1, self.largest_n + 1):\n",
    "            for simplex in self.simplicial_complex.graded_simplices[n]:\n",
    "                for child in simplex.get_immediate_children():\n",
    "                    if child not in self.simplicial_complex.graded_simplices[n - 1]:\n",
    "                        raise ValueError(\n",
    "                            f\"Simplex {child} is not in the simplicial complex\"\n",
    "                        )\n",
    "\n",
    "    def generate_random_path_value_mapping(self) -> Dict[str, float]:\n",
    "        path_value_map = {}\n",
    "        for n in range(1, self.largest_n + 1):\n",
    "            for simplex in self.simplicial_complex.graded_simplices[n]:\n",
    "                # For now, set to be random number between 1 and 10\n",
    "                # Since Simplex is a class we can't hash it, so we need to use the representation\n",
    "                path_value_map[str(simplex)] = random.random() * 9 + 1\n",
    "        return path_value_map\n",
    "\n",
    "    def get_boundary_map_matrices(\n",
    "        self, path_value_map: Dict[str, float]\n",
    "    ) -> Dict[(int, int), List[List[float]]]:\n",
    "\n",
    "        boundary_map_matrices = {}\n",
    "        for a in range(1, self.largest_n):\n",
    "            b = a + 1\n",
    "            # Note that b is for the larger dimensional simplices\n",
    "            input_dim, output_dim = (\n",
    "                len(self.simplicial_complex.graded_simplices[b]),\n",
    "                len(self.simplicial_complex.graded_simplices[a]),\n",
    "            )\n",
    "            boundary_map = np.zeros((input_dim, output_dim))\n",
    "            for i in range(input_dim):\n",
    "                current_simplex = self.simplicial_complex.graded_simplices[b][i]\n",
    "                desired_path_value = path_value_map[str(current_simplex)]\n",
    "                sign = 1\n",
    "                for j in range(output_dim):\n",
    "                    current_child = self.simplicial_complex.graded_simplices[a][j]\n",
    "                    if current_child in current_simplex.get_immediate_children():\n",
    "                        child_path_value = path_value_map[str(current_child)]\n",
    "                        boundary_map[i, j] = (\n",
    "                            sign * desired_path_value / child_path_value\n",
    "                        )\n",
    "                        sign *= -1\n",
    "                    else:\n",
    "                        boundary_map[i, j] = 0\n",
    "\n",
    "            boundary_map_matrices[(b, a)] = boundary_map\n",
    "        return boundary_map_matrices\n",
    "\n",
    "\n",
    "print(X.graded_simplices)\n",
    "C = CellularSheaf(X)\n",
    "path_value_map = C.generate_random_path_value_mapping()\n",
    "print(path_value_map)\n",
    "boundary_map_matrices = C.get_boundary_map_matrices(path_value_map)\n",
    "print(boundary_map_matrices)\n",
    "\n",
    "print(boundary_map_matrices[(3, 2)] @ boundary_map_matrices[(2, 1)])"
   ]
  },
  {
   "cell_type": "code",
   "execution_count": 407,
   "metadata": {},
   "outputs": [
    {
     "name": "stdout",
     "output_type": "stream",
     "text": [
      "defaultdict(<class 'list'>, {3: [Simplex(1 2 3), Simplex(2 3 4)], 2: [Simplex(2 3), Simplex(1 3), Simplex(1 2), Simplex(3 4), Simplex(2 4)], 1: [Simplex(3), Simplex(2), Simplex(1), Simplex(4)]})\n",
      "defaultdict(<class 'list'>, {3: [Simplex(2 3 4)], 2: [Simplex(2 3), Simplex(1 3), Simplex(3 4), Simplex(2 4)], 1: [Simplex(3), Simplex(2), Simplex(1), Simplex(4)]})\n"
     ]
    }
   ],
   "source": [
    "a, b, c, d = Simplex([1, 2, 3]), Simplex([2, 3, 4]), Simplex([2, 3]), Simplex([1, 3])\n",
    "X = SimplicialComplex([a, b, c, d])\n",
    "Xc = CellularSheaf(X)\n",
    "Y = SimplicialComplex([b, c, d])\n",
    "Yc = CellularSheaf(Y)\n",
    "\n",
    "print(X.graded_simplices)\n",
    "print(Y.graded_simplices)"
   ]
  },
  {
   "cell_type": "code",
   "execution_count": 408,
   "metadata": {},
   "outputs": [
    {
     "name": "stdout",
     "output_type": "stream",
     "text": [
      "[[ 1.  0. -1.]\n",
      " [ 0.  1.  2.]]\n",
      "[[ 1.  0. -1.]\n",
      " [ 0.  1.  2.]]\n"
     ]
    }
   ],
   "source": [
    "def elementary_swap(n, i, j):\n",
    "    \"\"\" Create an elementary matrix that swaps rows i and j in an n x n matrix \"\"\"\n",
    "    E = np.eye(n)\n",
    "    E[[i, j]] = E[[j, i]]\n",
    "    return E\n",
    "\n",
    "def elementary_scale(n, i, k):\n",
    "    \"\"\" Create an elementary matrix that scales row i by k in an n x n matrix \"\"\"\n",
    "    E = np.eye(n)\n",
    "    E[i, i] = k\n",
    "    return E\n",
    "\n",
    "def elementary_add(n, i, j, k):\n",
    "    \"\"\" Create an elementary matrix that adds k times row j to row i in an n x n matrix \"\"\"\n",
    "    E = np.eye(n)\n",
    "    E[i, j] = k\n",
    "    return E\n",
    "\n",
    "def rref_and_operations(A):\n",
    "    m, n = A.shape\n",
    "    A = A.astype(float)  # Use float to prevent integer division issues\n",
    "    history = []  # To store history of operations as matrices\n",
    "\n",
    "    for i in range(min(m, n)):\n",
    "        # Find the pivot\n",
    "        max_row = np.argmax(np.abs(A[i:, i])) + i\n",
    "        if A[max_row, i] == 0:\n",
    "            continue\n",
    "\n",
    "        # Swap if necessary\n",
    "        if max_row != i:\n",
    "            E = elementary_swap(m, i, max_row)\n",
    "            A = E @ A\n",
    "            history.append(E)\n",
    "\n",
    "        # Normalize the pivot row\n",
    "        pivot = A[i, i]\n",
    "        E = elementary_scale(m, i, 1 / pivot)\n",
    "        A = E @ A\n",
    "        history.append(E)\n",
    "\n",
    "        # Eliminate down\n",
    "        for k in range(m):\n",
    "            if k != i and A[k, i] != 0:\n",
    "                E = elementary_add(m, k, i, -A[k, i])\n",
    "                A = E @ A\n",
    "                history.append(E)\n",
    "\n",
    "    return A, history\n",
    "\n",
    "\n",
    "A = np.array([[1, 2, 3], [4, 5, 6]])\n",
    "row_reduced, operations = rref_and_operations(A)\n",
    "print(row_reduced)\n",
    "product_of_operations = np.eye(2)\n",
    "for operation in operations:\n",
    "    product_of_operations = operation @ product_of_operations\n",
    "recovered_row_reduced = np.round(product_of_operations @ A)\n",
    "print(recovered_row_reduced)"
   ]
  },
  {
   "cell_type": "code",
   "execution_count": 409,
   "metadata": {},
   "outputs": [],
   "source": [
    "def get_decomposition(A):\n",
    "    row_reduced, operations = rref_and_operations(A)\n",
    "    product_of_operations = np.eye(A.shape[0])\n",
    "    for operation in operations:\n",
    "        product_of_operations = operation @ product_of_operations\n",
    "    return product_of_operations, row_reduced"
   ]
  },
  {
   "cell_type": "code",
   "execution_count": 410,
   "metadata": {},
   "outputs": [
    {
     "name": "stdout",
     "output_type": "stream",
     "text": [
      "(2, 2)\n"
     ]
    },
    {
     "ename": "ValueError",
     "evalue": "matmul: Input operand 1 has a mismatch in its core dimension 0, with gufunc signature (n?,k),(k,m?)->(n?,m?) (size 2 is different from 4)",
     "output_type": "error",
     "traceback": [
      "\u001b[0;31m---------------------------------------------------------------------------\u001b[0m",
      "\u001b[0;31mValueError\u001b[0m                                Traceback (most recent call last)",
      "Cell \u001b[0;32mIn[410], line 44\u001b[0m\n\u001b[1;32m     42\u001b[0m Z \u001b[38;5;241m=\u001b[39m Y[:, zero_column_indices]\n\u001b[1;32m     43\u001b[0m \u001b[38;5;28mprint\u001b[39m(Y\u001b[38;5;241m.\u001b[39mshape)\n\u001b[0;32m---> 44\u001b[0m B_XY_kplusone \u001b[38;5;241m=\u001b[39m \u001b[43mB_Y_kplusone\u001b[49m\u001b[43m \u001b[49m\u001b[38;5;241;43m@\u001b[39;49m\u001b[43m \u001b[49m\u001b[43mY\u001b[49m\u001b[43m[\u001b[49m\u001b[43m:\u001b[49m\u001b[43mn_Y_k\u001b[49m\u001b[43m,\u001b[49m\u001b[43m \u001b[49m\u001b[43mzero_column_indices\u001b[49m\u001b[43m]\u001b[49m\n\u001b[1;32m     45\u001b[0m \u001b[38;5;28mprint\u001b[39m(B_XY_kplusone\u001b[38;5;241m.\u001b[39mshape)\n\u001b[1;32m     46\u001b[0m up_laplacian \u001b[38;5;241m=\u001b[39m B_XY_kplusone \u001b[38;5;241m@\u001b[39m np\u001b[38;5;241m.\u001b[39mlinalg\u001b[38;5;241m.\u001b[39minv(Z\u001b[38;5;241m.\u001b[39mT \u001b[38;5;241m@\u001b[39m Z) \u001b[38;5;241m@\u001b[39m B_XY_kplusone\u001b[38;5;241m.\u001b[39mT\n",
      "\u001b[0;31mValueError\u001b[0m: matmul: Input operand 1 has a mismatch in its core dimension 0, with gufunc signature (n?,k),(k,m?)->(n?,m?) (size 2 is different from 4)"
     ]
    }
   ],
   "source": [
    "from sympy import *\n",
    "\n",
    "k = 2\n",
    "\n",
    "# Inner product matrices set to identity for now\n",
    "B_Y_k = Yc.get_boundary_map_matrices(Yc.generate_random_path_value_mapping())[\n",
    "    (k, k - 1)\n",
    "]\n",
    "B_X_k = Xc.get_boundary_map_matrices(Xc.generate_random_path_value_mapping())[\n",
    "    (k, k - 1)\n",
    "]\n",
    "if (k+1, k) in Yc.get_boundary_map_matrices(Yc.generate_random_path_value_mapping()):\n",
    "    B_Y_kplusone = Yc.get_boundary_map_matrices(Yc.generate_random_path_value_mapping())[\n",
    "        (k + 1, k)\n",
    "    ]\n",
    "else:\n",
    "    B_Y_kplusone = np.zeros((len(Y.graded_simplices[k + 1]), len(Y.graded_simplices[k])))\n",
    "B_X_kplusone = Xc.get_boundary_map_matrices(Xc.generate_random_path_value_mapping())[\n",
    "    (k + 1, k)\n",
    "]\n",
    "\n",
    "down_laplacian = B_Y_k @ B_Y_k.T\n",
    "\n",
    "n_X_k = len(X.graded_simplices[k])\n",
    "n_Y_k = len(Y.graded_simplices[k])\n",
    "if n_X_k == n_Y_k:\n",
    "    B_XY_kplusone = B_X_kplusone\n",
    "    up_laplacian = B_XY_kplusone.T @ B_XY_kplusone\n",
    "else:\n",
    "    columns_to_remove = n_Y_k\n",
    "    D_X_kplusone = B_X_kplusone[:, columns_to_remove:]\n",
    "    # Round to avoid numerical errors\n",
    "    D_X_kplusone = np.round(D_X_kplusone, 1)\n",
    "    \n",
    "    Y, R_X_kplusone = get_decomposition(D_X_kplusone)\n",
    "    R_X_kplusone = R_X_kplusone.T\n",
    "    zero_column_indices = np.where(~R_X_kplusone.any(axis=0))[0]\n",
    "    \n",
    "    if zero_column_indices.size == 0:\n",
    "        up_laplacian = np.zeros((n_Y_k, n_Y_k))\n",
    "    else:\n",
    "        Z = Y[:, zero_column_indices]\n",
    "        print(Y.shape)\n",
    "        B_XY_kplusone = B_Y_kplusone @ Y[:n_Y_k, zero_column_indices]\n",
    "        print(B_XY_kplusone.shape)\n",
    "        up_laplacian = B_XY_kplusone @ np.linalg.inv(Z.T @ Z) @ B_XY_kplusone.T\n",
    "\n",
    "print(up_laplacian)"
   ]
  },
  {
   "cell_type": "markdown",
   "metadata": {},
   "source": [
    "TODO:\n",
    "- Tests for the generated boundary maps\n",
    "- Random cellular complex generation"
   ]
  }
 ],
 "metadata": {
  "kernelspec": {
   "display_name": "Python 3",
   "language": "python",
   "name": "python3"
  },
  "language_info": {
   "codemirror_mode": {
    "name": "ipython",
    "version": 3
   },
   "file_extension": ".py",
   "mimetype": "text/x-python",
   "name": "python",
   "nbconvert_exporter": "python",
   "pygments_lexer": "ipython3",
   "version": "3.12.1"
  }
 },
 "nbformat": 4,
 "nbformat_minor": 2
}
