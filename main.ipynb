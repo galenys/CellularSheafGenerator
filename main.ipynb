{
 "cells": [
  {
   "cell_type": "code",
   "execution_count": 24,
   "metadata": {},
   "outputs": [],
   "source": [
    "from collections import defaultdict\n",
    "from __future__ import annotations\n",
    "from typing import List, Dict, Tuple\n",
    "import random\n",
    "import numpy as np"
   ]
  },
  {
   "cell_type": "code",
   "execution_count": 25,
   "metadata": {},
   "outputs": [
    {
     "name": "stdout",
     "output_type": "stream",
     "text": [
      "Simplex(1 2 3)\n",
      "[Simplex(2 3), Simplex(1 3), Simplex(1 2)]\n"
     ]
    }
   ],
   "source": [
    "class Simplex:\n",
    "    def __init__(self, vertices: List[int]):\n",
    "        self.n = len(vertices)\n",
    "        self.vertices = vertices\n",
    "\n",
    "    def get_representation(self) -> List[int]:\n",
    "        return sorted(self.vertices)\n",
    "\n",
    "    def __eq__(self, other: Simplex) -> bool:\n",
    "        return self.get_representation() == other.get_representation()\n",
    "\n",
    "    def get_immediate_children(self) -> List[Simplex]:\n",
    "        if self.n == 1:\n",
    "            return []\n",
    "        return [\n",
    "            Simplex([*self.vertices[:i], *self.vertices[i + 1 :]])\n",
    "            for i in range(self.n)\n",
    "        ]\n",
    "\n",
    "    def __str__(self) -> str:\n",
    "        return f\"Simplex({' '.join(str(v) for v in self.get_representation())})\"\n",
    "\n",
    "    def __repr__(self) -> str:\n",
    "        return self.__str__()\n",
    "\n",
    "\n",
    "a = Simplex([1, 2, 3])\n",
    "print(a)\n",
    "print(a.get_immediate_children())"
   ]
  },
  {
   "cell_type": "code",
   "execution_count": 26,
   "metadata": {},
   "outputs": [
    {
     "name": "stdout",
     "output_type": "stream",
     "text": [
      "SimplicialComplex({3: [Simplex(1 2 3)], 2: [Simplex(2 3), Simplex(1 3), Simplex(1 2)], 1: [Simplex(3), Simplex(2), Simplex(1)]})\n"
     ]
    }
   ],
   "source": [
    "class SimplicialComplex:\n",
    "    def __init__(self, simplices: List[Simplex]):\n",
    "        \"\"\"\n",
    "        It will be useful later to keep the simplices graded by dimension.\n",
    "        \"\"\"\n",
    "        self.graded_simplices = defaultdict(list)\n",
    "        for simplex in simplices:\n",
    "            self.graded_simplices[simplex.n].append(simplex)\n",
    "        self.largest_n = max(self.graded_simplices.keys())\n",
    "        self.fill_in_gaps()\n",
    "\n",
    "    def fill_in_simplex(self, simplex: Simplex):\n",
    "        if simplex in self.graded_simplices[simplex.n]:\n",
    "            return\n",
    "        self.graded_simplices[simplex.n].append(simplex)\n",
    "        for child in simplex.get_immediate_children():\n",
    "            self.fill_in_simplex(child)\n",
    "\n",
    "    def fill_in_gaps(self):\n",
    "        for n in range(1, self.largest_n + 1):\n",
    "            for simplex in self.graded_simplices[n]:\n",
    "                for child in simplex.get_immediate_children():\n",
    "                    self.fill_in_simplex(child)\n",
    "\n",
    "    def __str__(self) -> str:\n",
    "        return f\"SimplicialComplex({dict(self.graded_simplices)})\"\n",
    "\n",
    "    def __repr__(self) -> str:\n",
    "        return self.__str__()\n",
    "\n",
    "\n",
    "a, b = Simplex([1, 2, 3]), Simplex([2, 3])\n",
    "X = SimplicialComplex([a, b])\n",
    "print(X)"
   ]
  },
  {
   "cell_type": "code",
   "execution_count": 30,
   "metadata": {},
   "outputs": [
    {
     "name": "stdout",
     "output_type": "stream",
     "text": [
      "{'Simplex(3)': 8.389375448176535, 'Simplex(2)': 5.158584758569095, 'Simplex(1)': 3.968282998463432, 'Simplex(2 3)': 4.741812310409388, 'Simplex(1 3)': 1.6807174569608847, 'Simplex(1 2)': 6.885917888451094, 'Simplex(1 2 3)': 7.757192349339902}\n",
      "{(2, 1): array([[0.56521637, 0.91920799, 0.        ],\n",
      "       [0.20033881, 0.        , 0.4235377 ],\n",
      "       [0.        , 1.33484632, 1.73523861]]), (3, 2): array([[1.63591299, 4.61540535, 1.12652989]])}\n"
     ]
    }
   ],
   "source": [
    "class CellularSheaf:\n",
    "    def __init__(self, simplicial_complex: SimplicialComplex):\n",
    "        \"\"\"\n",
    "        In this version of a cellular sheaf, we will assume that each simplex is assigned R,\n",
    "        and that the boundary maps are real numbers.\n",
    "        \"\"\"\n",
    "\n",
    "        self.simplicial_complex = simplicial_complex\n",
    "        self.largest_n = simplicial_complex.largest_n\n",
    "\n",
    "        # We check that the boundary condition holds\n",
    "        self.check_valid_simplicial_complex()\n",
    "\n",
    "    def check_valid_simplicial_complex(self):\n",
    "        for n in range(1, self.largest_n + 1):\n",
    "            for simplex in self.simplicial_complex.graded_simplices[n]:\n",
    "                for child in simplex.get_immediate_children():\n",
    "                    if child not in self.simplicial_complex.graded_simplices[n - 1]:\n",
    "                        raise ValueError(\n",
    "                            f\"Simplex {child} is not in the simplicial complex\"\n",
    "                        )\n",
    "\n",
    "    def generate_random_path_value_mapping(self) -> Dict[str, float]:\n",
    "        path_value_map = {}\n",
    "        for n in range(1, self.largest_n + 1):\n",
    "            for simplex in self.simplicial_complex.graded_simplices[n]:\n",
    "                # For now, set to be random number between 1 and 10\n",
    "                # Since Simplex is a class we can't hash it, so we need to use the representation\n",
    "                path_value_map[str(simplex)] = random.random() * 9 + 1\n",
    "        return path_value_map\n",
    "\n",
    "    def get_boundary_map_matrices(\n",
    "        self, path_value_map: Dict[str, float]\n",
    "    ) -> Dict[(int, int), List[List[float]]]:\n",
    "\n",
    "        boundary_map_matrices = {}\n",
    "        for a in range(1, self.largest_n):\n",
    "            b = a + 1\n",
    "            # Note that b is for the larger dimensional simplices\n",
    "            input_dim, output_dim = (\n",
    "                len(self.simplicial_complex.graded_simplices[b]),\n",
    "                len(self.simplicial_complex.graded_simplices[a]),\n",
    "            )\n",
    "            boundary_map = np.zeros((input_dim, output_dim))\n",
    "            for i in range(input_dim):\n",
    "                current_simplex = self.simplicial_complex.graded_simplices[b][i]\n",
    "                desired_path_value = path_value_map[str(current_simplex)]\n",
    "                for j in range(output_dim):\n",
    "                    current_child = self.simplicial_complex.graded_simplices[a][j]\n",
    "                    if current_child in current_simplex.get_immediate_children():\n",
    "                        child_path_value = path_value_map[str(current_child)]\n",
    "                        boundary_map[i, j] = desired_path_value / child_path_value\n",
    "                    else:\n",
    "                        boundary_map[i, j] = 0\n",
    "            boundary_map_matrices[(b, a)] = boundary_map\n",
    "        return boundary_map_matrices\n",
    "\n",
    "C = CellularSheaf(X)\n",
    "path_value_map = C.generate_random_path_value_mapping()\n",
    "print(path_value_map)\n",
    "boundary_map_matrices = C.get_boundary_map_matrices(path_value_map)\n",
    "print(boundary_map_matrices)"
   ]
  }
 ],
 "metadata": {
  "kernelspec": {
   "display_name": "Python 3",
   "language": "python",
   "name": "python3"
  },
  "language_info": {
   "codemirror_mode": {
    "name": "ipython",
    "version": 3
   },
   "file_extension": ".py",
   "mimetype": "text/x-python",
   "name": "python",
   "nbconvert_exporter": "python",
   "pygments_lexer": "ipython3",
   "version": "3.12.1"
  }
 },
 "nbformat": 4,
 "nbformat_minor": 2
}
