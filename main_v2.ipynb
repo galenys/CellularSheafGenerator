{
 "cells": [
  {
   "cell_type": "code",
   "execution_count": 1,
   "metadata": {},
   "outputs": [],
   "source": [
    "from collections import defaultdict\n",
    "from __future__ import annotations"
   ]
  },
  {
   "cell_type": "code",
   "execution_count": 2,
   "metadata": {},
   "outputs": [
    {
     "name": "stdout",
     "output_type": "stream",
     "text": [
      "Simplex(1 2 3)\n",
      "[Simplex(2 3), Simplex(1 3), Simplex(1 2)]\n"
     ]
    }
   ],
   "source": [
    "class Simplex:\n",
    "    def __init__(self, vertices: list[int]):\n",
    "        self.n = len(vertices) - 1\n",
    "        self.vertices = tuple(sorted(vertices))\n",
    "\n",
    "    def get_immediate_children(self) -> list[Simplex]:\n",
    "        if self.n == 0:\n",
    "            return []\n",
    "        return [\n",
    "            Simplex([*self.vertices[:i], *self.vertices[i + 1 :]])\n",
    "            for i in range(self.n + 1)\n",
    "        ]\n",
    "\n",
    "    def __str__(self) -> str:\n",
    "        return f\"Simplex({' '.join(str(v) for v in self.vertices)})\"\n",
    "\n",
    "    def __repr__(self) -> str:\n",
    "        return self.__str__()\n",
    "\n",
    "    def __eq__(self, other: Simplex) -> bool:\n",
    "        return self.vertices == other.vertices\n",
    "\n",
    "    def __hash__(self) -> int:\n",
    "        return hash(self.vertices)\n",
    "\n",
    "\n",
    "a = Simplex([1, 2, 3])\n",
    "print(a)\n",
    "print(a.get_immediate_children())"
   ]
  },
  {
   "cell_type": "code",
   "execution_count": 3,
   "metadata": {},
   "outputs": [
    {
     "data": {
      "text/plain": [
       "SimplicialComplex({2: [Simplex(1 2 3)], 1: [Simplex(1 2), Simplex(1 3), Simplex(2 3), Simplex(3 4)], 0: [Simplex(1), Simplex(2), Simplex(3), Simplex(4)]})"
      ]
     },
     "execution_count": 3,
     "metadata": {},
     "output_type": "execute_result"
    }
   ],
   "source": [
    "class SimplicialComplex:\n",
    "    def __init__(self, simplices: list[Simplex]):\n",
    "        # It will be useful later to keep the simplices graded by dimension.\n",
    "        self.graded_simplices = defaultdict(list)\n",
    "        for simplex in simplices:\n",
    "            self.graded_simplices[simplex.n].append(simplex)\n",
    "        self.largest_n = max(self.graded_simplices.keys())\n",
    "        self.fill_in_gaps()\n",
    "        self.remove_duplicates()\n",
    "        self.sort_simplices()\n",
    "\n",
    "    def fill_in_simplex(self, simplex: Simplex):\n",
    "        if simplex in self.graded_simplices[simplex.n]:\n",
    "            return\n",
    "        self.graded_simplices[simplex.n].append(simplex)\n",
    "        for child in simplex.get_immediate_children():\n",
    "            self.fill_in_simplex(child)\n",
    "\n",
    "    def fill_in_gaps(self):\n",
    "        for n in range(1, self.largest_n + 1):\n",
    "            for simplex in self.graded_simplices[n]:\n",
    "                for child in simplex.get_immediate_children():\n",
    "                    self.fill_in_simplex(child)\n",
    "\n",
    "    def remove_duplicates(self):\n",
    "        for n in range(self.largest_n + 1):\n",
    "            self.graded_simplices[n] = list(set(self.graded_simplices[n]))\n",
    "\n",
    "    def sort_simplices(self):\n",
    "        for n in range(self.largest_n + 1):\n",
    "            self.graded_simplices[n] = sorted(\n",
    "                self.graded_simplices[n], key=lambda simplex: simplex.vertices\n",
    "            )\n",
    "\n",
    "    def __str__(self) -> str:\n",
    "        return f\"SimplicialComplex({dict(self.graded_simplices)})\"\n",
    "\n",
    "    def __repr__(self) -> str:\n",
    "        return self.__str__()\n",
    "\n",
    "    def get_boundary_matrix_map(self) -> dict[int, list[list[float]]]:\n",
    "        boundary_matrix_map = {}\n",
    "        for n in range(1, self.largest_n + 1):\n",
    "            curr_basis = self.graded_simplices[n]\n",
    "            prev_basis = self.graded_simplices[n - 1]\n",
    "            boundary_matrix = [\n",
    "                [0 for _ in range(len(curr_basis))] for _ in range(len(prev_basis))\n",
    "            ]\n",
    "            for i in range(len(prev_basis)):\n",
    "                for j in range(len(curr_basis)):\n",
    "\n",
    "                    # Check if all vertices of the i-th simplex are in the j-th simplex.\n",
    "                    if not all(\n",
    "                        v in curr_basis[j].vertices for v in prev_basis[i].vertices\n",
    "                    ):\n",
    "                        boundary_matrix[i][j] = 0\n",
    "                    else:\n",
    "                        missing_index = [\n",
    "                            index\n",
    "                            for index, v in enumerate(curr_basis[j].vertices)\n",
    "                            if v not in prev_basis[i].vertices\n",
    "                        ][0]\n",
    "                        boundary_matrix[i][j] = (-1) ** missing_index\n",
    "            boundary_matrix_map[n] = boundary_matrix\n",
    "\n",
    "        return boundary_matrix_map\n",
    "\n",
    "\n",
    "a, b, c = Simplex([1, 2, 3]), Simplex([2, 3]), Simplex([3, 4])\n",
    "X = SimplicialComplex([a, c, b])\n",
    "X"
   ]
  },
  {
   "cell_type": "code",
   "execution_count": 4,
   "metadata": {},
   "outputs": [
    {
     "name": "stdout",
     "output_type": "stream",
     "text": [
      "Simplices of dimension 0: [Simplex(1), Simplex(2), Simplex(3), Simplex(4)]\n",
      "Simplices of dimension 1: [Simplex(1 2), Simplex(1 3), Simplex(2 3), Simplex(3 4)]\n",
      "Simplices of dimension 2: [Simplex(1 2 3)]\n",
      "Simplices of dimension 3: []\n",
      "Boundary matrix of dimension 1:\n",
      "[-1, -1, 0, 0]\n",
      "[1, 0, -1, 0]\n",
      "[0, 1, 1, -1]\n",
      "[0, 0, 0, 1]\n",
      "Boundary matrix of dimension 2:\n",
      "[1]\n",
      "[-1]\n",
      "[1]\n",
      "[0]\n"
     ]
    }
   ],
   "source": [
    "for n in range(4):\n",
    "    print(f\"Simplices of dimension {n}: {X.graded_simplices[n]}\")\n",
    "for n, matrix in X.get_boundary_matrix_map().items():\n",
    "    print(f\"Boundary matrix of dimension {n}:\")\n",
    "    for row in matrix:\n",
    "        print(row)"
   ]
  }
 ],
 "metadata": {
  "kernelspec": {
   "display_name": ".venv",
   "language": "python",
   "name": "python3"
  },
  "language_info": {
   "codemirror_mode": {
    "name": "ipython",
    "version": 3
   },
   "file_extension": ".py",
   "mimetype": "text/x-python",
   "name": "python",
   "nbconvert_exporter": "python",
   "pygments_lexer": "ipython3",
   "version": "3.12.3"
  }
 },
 "nbformat": 4,
 "nbformat_minor": 2
}
